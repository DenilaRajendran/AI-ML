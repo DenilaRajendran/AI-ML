{
 "cells": [
  {
   "cell_type": "code",
   "execution_count": 12,
   "id": "8ef346a7-1d53-42a5-845e-9762b36d845b",
   "metadata": {},
   "outputs": [
    {
     "name": "stdout",
     "output_type": "stream",
     "text": [
      "3\n",
      "<class 'int'>\n"
     ]
    }
   ],
   "source": [
    "snake_case=3\n",
    "print(snake_case)\n",
    "print(type(snake_case))\n"
   ]
  },
  {
   "cell_type": "code",
   "execution_count": 10,
   "id": "b1f10aaa-d3f5-4b11-86b4-ac5b70e0d0a7",
   "metadata": {},
   "outputs": [
    {
     "name": "stdout",
     "output_type": "stream",
     "text": [
      "5\n"
     ]
    }
   ],
   "source": [
    "TomBoy=5\n",
    "print(TomBoy)"
   ]
  },
  {
   "cell_type": "code",
   "execution_count": 6,
   "id": "6f15b505-4104-4cf7-8695-3fc0cc6493f6",
   "metadata": {},
   "outputs": [],
   "source": [
    "name = \"Bill Teddington\"\n",
    "other_name = \"Sally Sussington\""
   ]
  },
  {
   "cell_type": "code",
   "execution_count": 8,
   "id": "69e8ac68-c432-4ce9-b370-75f32ea573d0",
   "metadata": {},
   "outputs": [
    {
     "name": "stdout",
     "output_type": "stream",
     "text": [
      "This is Python course\n"
     ]
    }
   ],
   "source": [
    "#This is a print command\n",
    "print(\"This is Python course\")"
   ]
  },
  {
   "cell_type": "code",
   "execution_count": 9,
   "id": "df7fefdb-4803-4142-a103-6968586cf997",
   "metadata": {},
   "outputs": [
    {
     "data": {
      "text/plain": [
       "'THis\\nis \\na \\nmultiple line of comment'"
      ]
     },
     "execution_count": 9,
     "metadata": {},
     "output_type": "execute_result"
    }
   ],
   "source": [
    "\"\"\"THis\n",
    "is \n",
    "a \n",
    "multiple line of comment\"\"\""
   ]
  },
  {
   "cell_type": "code",
   "execution_count": 11,
   "id": "e841fdc7-34e6-4abf-94c0-204ad799d054",
   "metadata": {},
   "outputs": [],
   "source": [
    "# Exercise:\n",
    "#Show 3 diff naming conventions along with a  comment"
   ]
  },
  {
   "cell_type": "code",
   "execution_count": 15,
   "id": "75003786-f684-408a-980e-b6ba515f8e72",
   "metadata": {},
   "outputs": [
    {
     "data": {
      "text/plain": [
       "'Text Type:\\tstr\\nNumeric Types:\\tint, float, complex\\nSequence Types:\\tlist, tuple, range\\nMapping Type:\\tdict'"
      ]
     },
     "execution_count": 15,
     "metadata": {},
     "output_type": "execute_result"
    }
   ],
   "source": [
    "#Exercise: Display each type\n",
    "\"\"\"Text Type:\tstr\n",
    "Numeric Types:\tint, float, complex\n",
    "Sequence Types:\tlist, tuple, range\n",
    "Mapping Type:\tdict\"\"\""
   ]
  },
  {
   "cell_type": "code",
   "execution_count": 16,
   "id": "c21ea2fb-65fa-491a-9f16-25bdc340c27f",
   "metadata": {},
   "outputs": [
    {
     "data": {
      "text/plain": [
       "'Exercise: Set Types:\\tset, frozenset\\nBoolean Type:\\tbool\\nBinary Types:\\tbytes, bytearray, memoryview\\nNone Type:\\tNoneType\\n'"
      ]
     },
     "execution_count": 16,
     "metadata": {},
     "output_type": "execute_result"
    }
   ],
   "source": [
    "\"\"\"Exercise: Set Types:\tset, frozenset\n",
    "Boolean Type:\tbool\n",
    "Binary Types:\tbytes, bytearray, memoryview\n",
    "None Type:\tNoneType\n",
    "\"\"\"\n",
    "#Exercise: Display each type"
   ]
  },
  {
   "cell_type": "code",
   "execution_count": 17,
   "id": "06b0014a-c87d-41c3-85c9-866d162bf552",
   "metadata": {},
   "outputs": [
    {
     "data": {
      "text/plain": [
       "'Exercise: Showcase any 3 arithmetic, assignment and logical ops'"
      ]
     },
     "execution_count": 17,
     "metadata": {},
     "output_type": "execute_result"
    }
   ],
   "source": [
    "\"\"\"Exercise: Showcase any 3 arithmetic, assignment and logical ops\"\"\""
   ]
  },
  {
   "cell_type": "code",
   "execution_count": 18,
   "id": "d8119112-b408-431a-b1ea-92bb0dafb5a5",
   "metadata": {},
   "outputs": [
    {
     "name": "stdin",
     "output_type": "stream",
     "text": [
      "Enter your name:  Denila\n"
     ]
    }
   ],
   "source": [
    "user_input = input(\"Enter your name: \")"
   ]
  },
  {
   "cell_type": "code",
   "execution_count": 19,
   "id": "8df54105-2bfa-4924-b9f8-09bf6cb82f1d",
   "metadata": {},
   "outputs": [
    {
     "name": "stdout",
     "output_type": "stream",
     "text": [
      "Hey! Let's get started\n"
     ]
    }
   ],
   "source": [
    "print(\"Hey! Let's get started\")"
   ]
  },
  {
   "cell_type": "code",
   "execution_count": 22,
   "id": "b79e857a-4185-4f61-8572-9d9275e23ce4",
   "metadata": {},
   "outputs": [
    {
     "name": "stdout",
     "output_type": "stream",
     "text": [
      "Hello:world!#"
     ]
    }
   ],
   "source": [
    "print(\"Hello\",\"world!\", sep=\":\", end =\"#\")"
   ]
  },
  {
   "cell_type": "code",
   "execution_count": 23,
   "id": "a68e94d4-6243-4406-a9e3-bbcbf6c15ed6",
   "metadata": {},
   "outputs": [],
   "source": [
    "# Ex: Identity, Membership, bitwise (Any 3) , input, print along with end and sep parameter"
   ]
  },
  {
   "cell_type": "code",
   "execution_count": 24,
   "id": "6a739e09-78c5-466b-a40c-0aa2e6a015df",
   "metadata": {},
   "outputs": [
    {
     "name": "stdout",
     "output_type": "stream",
     "text": [
      "P\n"
     ]
    }
   ],
   "source": [
    "name=\"Python\"\n",
    "print(name[0])"
   ]
  },
  {
   "cell_type": "code",
   "execution_count": 25,
   "id": "0489269a-196b-492b-8877-f682ea554cdd",
   "metadata": {},
   "outputs": [
    {
     "name": "stdout",
     "output_type": "stream",
     "text": [
      "t\n"
     ]
    }
   ],
   "source": [
    "name=\"Pythonwererttyt\"\n",
    "print(name[-1])"
   ]
  },
  {
   "cell_type": "code",
   "execution_count": 26,
   "id": "383084c3-a912-4365-9627-e086fc56e645",
   "metadata": {},
   "outputs": [
    {
     "name": "stdout",
     "output_type": "stream",
     "text": [
      "Pytho\n"
     ]
    }
   ],
   "source": [
    "name=\"Pythonwererttyt\"\n",
    "print(name[0:5])"
   ]
  },
  {
   "cell_type": "code",
   "execution_count": 29,
   "id": "e0da1db6-63bb-444c-bd2c-b063e1be1e34",
   "metadata": {},
   "outputs": [
    {
     "data": {
      "text/plain": [
       "'String\\nstring=\"Today is the Day. Make the most of it!\"\\nrem=\"Remind youself\"\\nperform slicing, concatenation, f-string,len and upper and lower case'"
      ]
     },
     "execution_count": 29,
     "metadata": {},
     "output_type": "execute_result"
    }
   ],
   "source": [
    "#Exercise:\n",
    "\"\"\"String\n",
    "string=\"Today is the Day. Make the most of it!\"\n",
    "rem=\"Remind youself\"\n",
    "perform slicing, concatenation, f-string,len and upper and lower case\"\"\""
   ]
  },
  {
   "cell_type": "code",
   "execution_count": 30,
   "id": "a9772b1b-48e8-4f2e-9b70-060343c7296e",
   "metadata": {},
   "outputs": [],
   "source": [
    "# Implicit an dexplicit casting, Handle one error-"
   ]
  },
  {
   "cell_type": "code",
   "execution_count": 31,
   "id": "9d571a4b-0e3c-4594-aac5-dce6cdd7db66",
   "metadata": {},
   "outputs": [
    {
     "name": "stdout",
     "output_type": "stream",
     "text": [
      "The answer is 42\n"
     ]
    }
   ],
   "source": [
    "x = 42\n",
    "x_str = str(x) # Explicitly converts integer to string\n",
    "print(\"The answer is \" + x_str)"
   ]
  },
  {
   "cell_type": "code",
   "execution_count": 36,
   "id": "7d965af0-749c-46d2-8271-21382bf04e52",
   "metadata": {},
   "outputs": [
    {
     "name": "stdout",
     "output_type": "stream",
     "text": [
      "Helllo123\n",
      "123\n",
      "Helllo123\n"
     ]
    }
   ],
   "source": [
    "x=\"Helllo\"\n",
    "n=123\n",
    "n1=str(n)\n",
    "print(x + str(n1))\n",
    "print(n1)\n",
    "print(x + n1)"
   ]
  },
  {
   "cell_type": "code",
   "execution_count": 37,
   "id": "6183cfb6-5c4b-4256-b1d4-858bb411f76f",
   "metadata": {},
   "outputs": [],
   "source": [
    "z= ['apple', 'watermelon', 'cherry', 'mango', 1, 2, 3]\n",
    "#exercise: Print the second item in the list\n",
    "#Remove cherry from the list and print the new list\n",
    "#Also add this list to the existing one: a=[123,234,345]\n",
    "#reverse the list\n"
   ]
  },
  {
   "cell_type": "code",
   "execution_count": 38,
   "id": "c1b57f1b-1741-4515-ad6a-4762fa7c6a68",
   "metadata": {},
   "outputs": [],
   "source": [
    "#tuple ex:\n",
    "x=(\"apple\",\"watermelon\",\"cherry\", \"mango\", \"grapes\")\n",
    "y=(912,23,34,45)\n",
    "#Add both the tuples\n",
    "#Count the values in the tuple\n",
    "#Specify the last value from the tuple\n"
   ]
  },
  {
   "cell_type": "code",
   "execution_count": 39,
   "id": "41a3936d-e4cb-4af7-a8fc-b4a54905541a",
   "metadata": {},
   "outputs": [],
   "source": [
    "#Set and range- range to list and set operations"
   ]
  },
  {
   "cell_type": "code",
   "execution_count": 40,
   "id": "dad0a329-b441-4e24-9e84-6dc358e52ed3",
   "metadata": {},
   "outputs": [],
   "source": [
    "# Exercise: Dictionaries (Any 3 types)"
   ]
  },
  {
   "cell_type": "code",
   "execution_count": 11,
   "id": "dd26681e-25d0-4ab5-b3c5-fd82c7871005",
   "metadata": {},
   "outputs": [
    {
     "name": "stdout",
     "output_type": "stream",
     "text": [
      "He is a toddler\n"
     ]
    }
   ],
   "source": [
    "#Conditional Statements:\n",
    "age=1\n",
    "if age>=35:\n",
    "    print(\"He is elder\")\n",
    "elif age==1:\n",
    "    print(\"He is a toddler\")\n",
    "else:\n",
    "    print(\"He is an old man\")"
   ]
  },
  {
   "cell_type": "code",
   "execution_count": 6,
   "id": "d48ab976-68f6-4233-9a7a-d7818f821e0c",
   "metadata": {},
   "outputs": [],
   "source": [
    "#Execute code for if, if-else, if-elif-else, nested if\n"
   ]
  },
  {
   "cell_type": "code",
   "execution_count": null,
   "id": "105e1220-6d8b-4e83-ba2a-6782525081a4",
   "metadata": {},
   "outputs": [],
   "source": [
    "#While condition\n",
    "\"\"\"\n",
    "n=1\n",
    "while n<=1:\n",
    "    n+=2\n",
    "    print(n)\n",
    "\"\"\"\n",
    "#Improvise this code and execute using Break and continue\n"
   ]
  },
  {
   "cell_type": "code",
   "execution_count": 16,
   "id": "ecd0262a-a140-4f29-b819-b8b1e8af1332",
   "metadata": {},
   "outputs": [
    {
     "name": "stdout",
     "output_type": "stream",
     "text": [
      "1 4\n",
      "1 5\n",
      "2 4\n",
      "2 5\n"
     ]
    }
   ],
   "source": [
    "x = [1, 2]\n",
    "y = [4, 5]\n",
    "for i in x:\n",
    "    for j in y:\n",
    "        print(i, j)"
   ]
  },
  {
   "cell_type": "code",
   "execution_count": 17,
   "id": "f8575e6c-a2b7-4035-a81a-eba3d2b44b13",
   "metadata": {},
   "outputs": [
    {
     "name": "stdout",
     "output_type": "stream",
     "text": [
      "1 4\n",
      "1 5\n",
      "1 8\n",
      "2 4\n",
      "2 5\n",
      "2 8\n",
      "9 4\n",
      "9 5\n",
      "9 8\n"
     ]
    }
   ],
   "source": [
    "x = [1, 2, 9]\n",
    "y = [4, 5, 8]\n",
    "for i in x:\n",
    "    for j in y:\n",
    "        print(i, j)"
   ]
  },
  {
   "cell_type": "code",
   "execution_count": 18,
   "id": "9b184cd9-afda-4c99-a92f-e8f7b1c9a4a2",
   "metadata": {},
   "outputs": [
    {
     "data": {
      "text/plain": [
       "'Execute the 4 codes'"
      ]
     },
     "execution_count": 18,
     "metadata": {},
     "output_type": "execute_result"
    }
   ],
   "source": [
    "#Function: Resuable of specific block of code\n",
    "\"\"\"Execute the 4 codes\"\"\""
   ]
  },
  {
   "cell_type": "code",
   "execution_count": 19,
   "id": "03738229-b418-4f97-af81-429fe38bdf00",
   "metadata": {},
   "outputs": [],
   "source": [
    "#Lambda function: Annoymous function\n",
    "#Syntax Lambda argument: Expression\n"
   ]
  },
  {
   "cell_type": "code",
   "execution_count": 23,
   "id": "8f63b115-b4eb-4877-bf4b-911e5a1de39a",
   "metadata": {},
   "outputs": [
    {
     "name": "stdout",
     "output_type": "stream",
     "text": [
      "[('John', 20), ('Ben', 24), ('Adam', 36)]\n"
     ]
    }
   ],
   "source": [
    "q=[(\"John\", 20),(\"Ben\",24),(\"Adam\",36)]\n",
    "q.sort(key=lambda x:x[1])\n",
    "print(q)\n",
    "#1: according to the number"
   ]
  },
  {
   "cell_type": "code",
   "execution_count": 21,
   "id": "d67b6055-567c-4afe-b4b6-9a86a45bd8c9",
   "metadata": {},
   "outputs": [
    {
     "name": "stdout",
     "output_type": "stream",
     "text": [
      "[('Ben', 24), ('John', 20)]\n"
     ]
    }
   ],
   "source": [
    "q=[(\"John\", 20),(\"Ben\",24)]\n",
    "q.sort(key=lambda x:x[0])\n",
    "print(q)\n",
    "#o: Alphabetical order"
   ]
  },
  {
   "cell_type": "code",
   "execution_count": 22,
   "id": "ef0009ae-ca1e-4015-bc01-ae7e52970983",
   "metadata": {},
   "outputs": [
    {
     "ename": "IndexError",
     "evalue": "tuple index out of range",
     "output_type": "error",
     "traceback": [
      "\u001b[1;31m---------------------------------------------------------------------------\u001b[0m",
      "\u001b[1;31mIndexError\u001b[0m                                Traceback (most recent call last)",
      "Cell \u001b[1;32mIn[22], line 2\u001b[0m\n\u001b[0;32m      1\u001b[0m q\u001b[38;5;241m=\u001b[39m[(\u001b[38;5;124m\"\u001b[39m\u001b[38;5;124mJohn\u001b[39m\u001b[38;5;124m\"\u001b[39m, \u001b[38;5;241m20\u001b[39m),(\u001b[38;5;124m\"\u001b[39m\u001b[38;5;124mBen\u001b[39m\u001b[38;5;124m\"\u001b[39m,\u001b[38;5;241m24\u001b[39m)]\n\u001b[1;32m----> 2\u001b[0m \u001b[43mq\u001b[49m\u001b[38;5;241;43m.\u001b[39;49m\u001b[43msort\u001b[49m\u001b[43m(\u001b[49m\u001b[43mkey\u001b[49m\u001b[38;5;241;43m=\u001b[39;49m\u001b[38;5;28;43;01mlambda\u001b[39;49;00m\u001b[43m \u001b[49m\u001b[43mx\u001b[49m\u001b[43m:\u001b[49m\u001b[43mx\u001b[49m\u001b[43m[\u001b[49m\u001b[38;5;241;43m2\u001b[39;49m\u001b[43m]\u001b[49m\u001b[43m)\u001b[49m\n\u001b[0;32m      3\u001b[0m \u001b[38;5;28mprint\u001b[39m(q)\n",
      "Cell \u001b[1;32mIn[22], line 2\u001b[0m, in \u001b[0;36m<lambda>\u001b[1;34m(x)\u001b[0m\n\u001b[0;32m      1\u001b[0m q\u001b[38;5;241m=\u001b[39m[(\u001b[38;5;124m\"\u001b[39m\u001b[38;5;124mJohn\u001b[39m\u001b[38;5;124m\"\u001b[39m, \u001b[38;5;241m20\u001b[39m),(\u001b[38;5;124m\"\u001b[39m\u001b[38;5;124mBen\u001b[39m\u001b[38;5;124m\"\u001b[39m,\u001b[38;5;241m24\u001b[39m)]\n\u001b[1;32m----> 2\u001b[0m q\u001b[38;5;241m.\u001b[39msort(key\u001b[38;5;241m=\u001b[39m\u001b[38;5;28;01mlambda\u001b[39;00m x:\u001b[43mx\u001b[49m\u001b[43m[\u001b[49m\u001b[38;5;241;43m2\u001b[39;49m\u001b[43m]\u001b[49m)\n\u001b[0;32m      3\u001b[0m \u001b[38;5;28mprint\u001b[39m(q)\n",
      "\u001b[1;31mIndexError\u001b[0m: tuple index out of range"
     ]
    }
   ],
   "source": [
    "q=[(\"John\", 20),(\"Ben\",24)]\n",
    "q.sort(key=lambda x:x[2])\n",
    "print(q)"
   ]
  },
  {
   "cell_type": "code",
   "execution_count": 24,
   "id": "21a053fc-f840-4949-87f6-1d7cf0bd3a48",
   "metadata": {},
   "outputs": [
    {
     "name": "stdout",
     "output_type": "stream",
     "text": [
      "[('Adam', 36), ('Ben', 24), ('John', 20)]\n"
     ]
    }
   ],
   "source": [
    "q=[(\"John\", 20),(\"Ben\",24),(\"Adam\",36)]\n",
    "q.sort(key=lambda x:x[0])\n",
    "print(q)"
   ]
  },
  {
   "cell_type": "code",
   "execution_count": 27,
   "id": "ea110240-e4c7-427b-8617-66a5276f13bf",
   "metadata": {},
   "outputs": [],
   "source": [
    "#Python class and object\n",
    "#Display the difference in both class attribute and instance attribute "
   ]
  },
  {
   "cell_type": "code",
   "execution_count": 28,
   "id": "0dcede6b-bf43-4126-86e4-1adbfaab5682",
   "metadata": {},
   "outputs": [],
   "source": [
    "#Inheritance and polymorphism- Execution of code"
   ]
  },
  {
   "cell_type": "code",
   "execution_count": 33,
   "id": "4efae1cd-92f8-4f1b-9b78-3c9a3290f584",
   "metadata": {},
   "outputs": [
    {
     "data": {
      "text/plain": [
       "'Create a multi-level class where 3 objects wil be created and the third object will be called referencing the second class'"
      ]
     },
     "execution_count": 33,
     "metadata": {},
     "output_type": "execute_result"
    }
   ],
   "source": [
    "#Encapsulation\n",
    "\"\"\"Create a multi-level class where 3 objects wil be created and the third object will be called referencing the second class\"\"\"\n"
   ]
  },
  {
   "cell_type": "code",
   "execution_count": 34,
   "id": "f7614098-0783-421d-806f-ba1b7bf0f7f8",
   "metadata": {},
   "outputs": [
    {
     "name": "stdout",
     "output_type": "stream",
     "text": [
      "1\n",
      "2\n",
      "3\n",
      "4\n",
      "5\n"
     ]
    }
   ],
   "source": [
    "numbers = [1, 2, 3, 4, 5]\n",
    "for num in numbers:\n",
    " print(num)"
   ]
  },
  {
   "cell_type": "code",
   "execution_count": 39,
   "id": "e5dc550c-bd20-4565-b452-50fca46f95de",
   "metadata": {},
   "outputs": [
    {
     "name": "stdout",
     "output_type": "stream",
     "text": [
      "1\n",
      "2\n",
      "3\n",
      "4\n",
      "5\n"
     ]
    }
   ],
   "source": [
    "numbers = [1, 2, 3, 4, 5]\n",
    "iter_numbers = iter(numbers)\n",
    "\n",
    "print(next(iter_numbers)) # Output: 1\n",
    "print(next(iter_numbers)) # Output: 2\n",
    "print(next(iter_numbers))\n",
    "print(next(iter_numbers))\n",
    "print(next(iter_numbers))\n"
   ]
  },
  {
   "cell_type": "code",
   "execution_count": 41,
   "id": "8e0098e6-e0b1-44a4-8d72-6a7e6a318a27",
   "metadata": {},
   "outputs": [
    {
     "name": "stdout",
     "output_type": "stream",
     "text": [
      "1\n",
      "4\n",
      "9\n",
      "16\n",
      "25\n"
     ]
    }
   ],
   "source": [
    "def square_numbers(nums):\n",
    "    for num in nums:\n",
    "        yield num * num\n",
    "numbers = [1, 2, 3, 4, 5]\n",
    "squares = square_numbers(numbers)\n",
    "for square in squares:\n",
    " print(square)\n"
   ]
  },
  {
   "cell_type": "code",
   "execution_count": 42,
   "id": "bd04ea8a-8ddb-47e4-ace5-48b9c93b030e",
   "metadata": {},
   "outputs": [],
   "source": [
    "# Exercise:\n",
    "# Execute the code for Iterators and Scope(All 4)"
   ]
  },
  {
   "cell_type": "code",
   "execution_count": 43,
   "id": "4053fc59-9b74-400e-86f4-cec8537b1675",
   "metadata": {},
   "outputs": [
    {
     "name": "stderr",
     "output_type": "stream",
     "text": [
      "ERROR:root:GFG raised an error\n"
     ]
    }
   ],
   "source": [
    "import logging\n",
    "name = 'GFG'\n",
    "logging.error('%s raised an error', name)\n"
   ]
  },
  {
   "cell_type": "code",
   "execution_count": 44,
   "id": "e84a24b9-f8f8-4879-88e4-d2736220a2d2",
   "metadata": {},
   "outputs": [
    {
     "name": "stderr",
     "output_type": "stream",
     "text": [
      "DEBUG:root:Harmless debug Message\n",
      "INFO:root:Just an information\n",
      "WARNING:root:Its a Warning\n",
      "ERROR:root:Did you try to divide by zero\n",
      "CRITICAL:root:Internet is down\n"
     ]
    }
   ],
   "source": [
    "# importing module\n",
    "import logging\n",
    "\n",
    "# Create and configure logger\n",
    "logging.basicConfig(filename=\"newfile.log\",\n",
    "\t\t\t\t\tformat='%(asctime)s %(message)s',\n",
    "\t\t\t\t\tfilemode='w')\n",
    "\n",
    "# Creating an object\n",
    "logger = logging.getLogger()\n",
    "\n",
    "# Setting the threshold of logger to DEBUG\n",
    "logger.setLevel(logging.DEBUG)\n",
    "\n",
    "# Test messages\n",
    "logger.debug(\"Harmless debug Message\")\n",
    "logger.info(\"Just an information\")\n",
    "logger.warning(\"Its a Warning\")\n",
    "logger.error(\"Did you try to divide by zero\")\n",
    "logger.critical(\"Internet is down\")\n"
   ]
  },
  {
   "cell_type": "code",
   "execution_count": 46,
   "id": "897d2b00-2f1e-4214-af77-09d77005287b",
   "metadata": {},
   "outputs": [
    {
     "name": "stdout",
     "output_type": "stream",
     "text": [
      "YES! We have a match!\n"
     ]
    }
   ],
   "source": [
    "import re\n",
    "#Check if the string starts with \"The\" and ends with \"Spain\":\n",
    "\n",
    "txt = \"The rain in Spain\"\n",
    "x = re.search(\"^The.*Spain$\", txt)\n",
    "\n",
    "if x:\n",
    "  print(\"YES! We have a match!\")\n",
    "else:\n",
    "  print(\"No match\")\n"
   ]
  },
  {
   "cell_type": "code",
   "execution_count": 47,
   "id": "575cd71d-71c4-4fbe-b6a2-f418c03a87ff",
   "metadata": {},
   "outputs": [
    {
     "name": "stdout",
     "output_type": "stream",
     "text": [
      "Lorem Ipsum Dolor Sit Amet\n"
     ]
    }
   ],
   "source": [
    "import camelcase\n",
    "\n",
    "c = camelcase.CamelCase()\n",
    "\n",
    "txt = \"lorem ipsum dolor sit amet\"\n",
    "\n",
    "print(c.hump(txt))\n",
    "\n",
    "#This method capitalizes the first letter of each word.\n"
   ]
  },
  {
   "cell_type": "code",
   "execution_count": 49,
   "id": "486a4e7e-a86c-44f9-bc4f-a6b9171830d9",
   "metadata": {},
   "outputs": [
    {
     "name": "stdout",
     "output_type": "stream",
     "text": [
      "[[1 2 3]\n",
      " [2 4 5]\n",
      " [6 7 8]]\n",
      "(3, 3)\n"
     ]
    }
   ],
   "source": [
    "#Numpy\n",
    "import numpy as np\n",
    "k=np.array([[1,2,3],[2,4,5],[6,7,8]])\n",
    "print(k)\n",
    "print(k.shape)"
   ]
  },
  {
   "cell_type": "code",
   "execution_count": 50,
   "id": "1200132f-bc13-41e3-be9c-4ea31f0bbcf8",
   "metadata": {},
   "outputs": [],
   "source": [
    "#Execute for 4*3 dimension\n"
   ]
  },
  {
   "cell_type": "code",
   "execution_count": 52,
   "id": "002d097c-6d81-414a-bd54-4ec99e7dd64f",
   "metadata": {},
   "outputs": [],
   "source": [
    "#Execute np.arange(15) and dispaly the last fourth value"
   ]
  },
  {
   "cell_type": "code",
   "execution_count": 53,
   "id": "dc2bf763-54d4-42c1-8ddb-c142424661d9",
   "metadata": {},
   "outputs": [],
   "source": [
    "#Execute x.shape(3,6) and show the 3rd value from the 2nd row"
   ]
  },
  {
   "cell_type": "code",
   "execution_count": 55,
   "id": "460287b6-7711-4e9d-bc9f-e0a1a55b657f",
   "metadata": {},
   "outputs": [
    {
     "name": "stdout",
     "output_type": "stream",
     "text": [
      "[[[1. 1. 1.]\n",
      "  [1. 1. 1.]]]\n"
     ]
    }
   ],
   "source": [
    "a=np.ones((1,2,3))\n",
    "print(a)"
   ]
  },
  {
   "cell_type": "code",
   "execution_count": 57,
   "id": "65dc9a93-39c5-4056-9a58-5d0f40273245",
   "metadata": {},
   "outputs": [
    {
     "name": "stdout",
     "output_type": "stream",
     "text": [
      "[[[1. 1. 1.]\n",
      "  [1. 1. 1.]]\n",
      "\n",
      " [[1. 1. 1.]\n",
      "  [1. 1. 1.]]]\n"
     ]
    }
   ],
   "source": [
    "a=np.ones((2,2,3))\n",
    "print(a)"
   ]
  },
  {
   "cell_type": "code",
   "execution_count": 58,
   "id": "2c5b1055-eded-4303-b3a3-1ea4b8944f4f",
   "metadata": {},
   "outputs": [
    {
     "name": "stdout",
     "output_type": "stream",
     "text": [
      "[[[1. 1. 1.]\n",
      "  [1. 1. 1.]]\n",
      "\n",
      " [[1. 1. 1.]\n",
      "  [1. 1. 1.]]\n",
      "\n",
      " [[1. 1. 1.]\n",
      "  [1. 1. 1.]]]\n"
     ]
    }
   ],
   "source": [
    "a=np.ones((3,2,3))\n",
    "print(a)"
   ]
  },
  {
   "cell_type": "code",
   "execution_count": null,
   "id": "4f2a4bdf-2eb6-457f-aac9-a564faf7a0ac",
   "metadata": {},
   "outputs": [],
   "source": []
  }
 ],
 "metadata": {
  "kernelspec": {
   "display_name": "Python 3 (ipykernel)",
   "language": "python",
   "name": "python3"
  },
  "language_info": {
   "codemirror_mode": {
    "name": "ipython",
    "version": 3
   },
   "file_extension": ".py",
   "mimetype": "text/x-python",
   "name": "python",
   "nbconvert_exporter": "python",
   "pygments_lexer": "ipython3",
   "version": "3.12.4"
  }
 },
 "nbformat": 4,
 "nbformat_minor": 5
}
