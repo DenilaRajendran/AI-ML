{
 "cells": [
  {
   "cell_type": "code",
   "execution_count": 1,
   "id": "9e1dd4dc-2cb9-434e-983f-68b3ab14d2f5",
   "metadata": {},
   "outputs": [
    {
     "name": "stdout",
     "output_type": "stream",
     "text": [
      "Hey Ppl! Welcome to New Gen Learning!\n"
     ]
    }
   ],
   "source": [
    "print(\"Hey Ppl! Welcome to New Gen Learning!\")"
   ]
  },
  {
   "cell_type": "code",
   "execution_count": 3,
   "id": "9d998c99-8b58-46ea-b8c7-12681ca59d51",
   "metadata": {},
   "outputs": [
    {
     "name": "stdout",
     "output_type": "stream",
     "text": [
      "Hey, Check this out!\n"
     ]
    }
   ],
   "source": [
    "print('Hey, Check this out!')"
   ]
  },
  {
   "cell_type": "code",
   "execution_count": 5,
   "id": "5564e6b7-9c0c-49e5-9e73-4bf014cf4df2",
   "metadata": {},
   "outputs": [
    {
     "name": "stdout",
     "output_type": "stream",
     "text": [
      "https://jupyter.org/install\n"
     ]
    }
   ],
   "source": [
    "print(\"https://jupyter.org/install\")\n",
    "#This is the jupyther notebook URL"
   ]
  },
  {
   "cell_type": "code",
   "execution_count": 6,
   "id": "927d46e7-f282-423c-8d78-5ed3e15d83a9",
   "metadata": {},
   "outputs": [
    {
     "name": "stdout",
     "output_type": "stream",
     "text": [
      "5\n"
     ]
    }
   ],
   "source": [
    "x=5\n",
    "print(x)"
   ]
  },
  {
   "cell_type": "code",
   "execution_count": 7,
   "id": "35920a5f-d57f-4eb4-a496-e2492a5e2fff",
   "metadata": {},
   "outputs": [
    {
     "name": "stdout",
     "output_type": "stream",
     "text": [
      "XMen\n"
     ]
    }
   ],
   "source": [
    "y=\"XMen\"\n",
    "print(y)"
   ]
  },
  {
   "cell_type": "code",
   "execution_count": 12,
   "id": "77b6621c-33a1-44ab-af31-97d6c2d0f73d",
   "metadata": {},
   "outputs": [
    {
     "name": "stdout",
     "output_type": "stream",
     "text": [
      "Den\n"
     ]
    }
   ],
   "source": [
    "x,y,z=\"John\", \"Zac\", \"Den\" \n",
    "print(z)"
   ]
  },
  {
   "cell_type": "code",
   "execution_count": 13,
   "id": "5b5105e0-6691-4770-a53b-8997770ba4a3",
   "metadata": {},
   "outputs": [
    {
     "name": "stdout",
     "output_type": "stream",
     "text": [
      "Python is awesome\n"
     ]
    }
   ],
   "source": [
    "x = \"awesome\"\n",
    "\n",
    "def myfunc():\n",
    "  print(\"Python is \" + x)\n",
    "\n",
    "myfunc()"
   ]
  },
  {
   "cell_type": "code",
   "execution_count": 15,
   "id": "ae62d00b-7271-486b-9cc4-4d9003e342b2",
   "metadata": {},
   "outputs": [
    {
     "data": {
      "text/plain": [
       "'\\nText Type:\\tstr\\nNumeric Types:\\tint, float, complex\\nSequence Types:\\tlist, tuple, range\\nMapping Type:\\tdict\\nSet Types:\\tset, frozenset\\nBoolean Type:\\tbool\\nBinary Types:\\tbytes, bytearray, memoryview\\nNone Type:\\tNoneType\\n'"
      ]
     },
     "execution_count": 15,
     "metadata": {},
     "output_type": "execute_result"
    }
   ],
   "source": [
    "#Python has the following data types built-in by default, in these categories:\n",
    "\"\"\"\n",
    "Text Type:\tstr\n",
    "Numeric Types:\tint, float, complex\n",
    "Sequence Types:\tlist, tuple, range\n",
    "Mapping Type:\tdict\n",
    "Set Types:\tset, frozenset\n",
    "Boolean Type:\tbool\n",
    "Binary Types:\tbytes, bytearray, memoryview\n",
    "None Type:\tNoneType\n",
    "\"\"\""
   ]
  },
  {
   "cell_type": "code",
   "execution_count": 5,
   "id": "350b9045-f02f-4cc8-8ca5-bd122be874a5",
   "metadata": {},
   "outputs": [
    {
     "name": "stdout",
     "output_type": "stream",
     "text": [
      "<class 'complex'>\n",
      "<class 'str'>\n"
     ]
    }
   ],
   "source": [
    "x=2.5 #float\n",
    "\n",
    "y= 1j #complex\n",
    "print(type(y))\n",
    "\n",
    "z=\"Denila\"\n",
    "print(type(z))\n"
   ]
  },
  {
   "cell_type": "code",
   "execution_count": 9,
   "id": "424a9c1e-4363-4d58-a95a-38e335e78457",
   "metadata": {},
   "outputs": [
    {
     "name": "stdout",
     "output_type": "stream",
     "text": [
      "('apple', 'mango', 'mango')\n",
      "range(0, 5)\n"
     ]
    }
   ],
   "source": [
    "#Sequence\n",
    "x=[\"Avengers\", \"Marvels\",\"Deadpool\", \"Wolverine\"] #list\n",
    "y=(\"apple\", \"mango\",\"mango\") #tuple\n",
    "z=range(5)\n",
    "print(y)\n",
    "print(z)"
   ]
  },
  {
   "cell_type": "code",
   "execution_count": 11,
   "id": "97de5bbd-a4c7-4793-8113-2794bd5e71f3",
   "metadata": {},
   "outputs": [
    {
     "name": "stdout",
     "output_type": "stream",
     "text": [
      "{'name': 'Denila', 'age': 51, 'gender': 'Female'}\n"
     ]
    }
   ],
   "source": [
    "#mapping\n",
    "q={\"name\":\"Denila\", \"age\": 51, \"gender\":\"Female\"}\n",
    "print(q)"
   ]
  },
  {
   "cell_type": "code",
   "execution_count": 13,
   "id": "470e26b6-1866-4841-bee4-a7b101ae098d",
   "metadata": {},
   "outputs": [
    {
     "name": "stdout",
     "output_type": "stream",
     "text": [
      "{'grapes', 'cherry'}\n"
     ]
    }
   ],
   "source": [
    "w={\"cherry\", \"grapes\",\"cherry\"}#set\n",
    "print(w)"
   ]
  },
  {
   "cell_type": "code",
   "execution_count": 23,
   "id": "c3ad4dcc-405c-4bdb-9ad9-6acd1468b380",
   "metadata": {},
   "outputs": [],
   "source": [
    "x=True\n",
    "y=False\n",
    "#boolean"
   ]
  },
  {
   "cell_type": "code",
   "execution_count": 14,
   "id": "851fd230-8017-4e2f-89be-0c6feb07e871",
   "metadata": {},
   "outputs": [
    {
     "name": "stdout",
     "output_type": "stream",
     "text": [
      "b'Hello'\n",
      "bytearray(b'\\x00\\x00\\x00\\x00\\x00')\n",
      "<memory at 0x0000023A8546A380>\n"
     ]
    }
   ],
   "source": [
    "x=b\"Hello\" #bytes\n",
    "print(x)\n",
    "y=bytearray(5) #bytearray\n",
    "print(y)\n",
    "z=memoryview(bytes(5))\n",
    "print(z)"
   ]
  },
  {
   "cell_type": "code",
   "execution_count": 30,
   "id": "9eaf089f-5ac0-41b6-99b9-d31ec50ad2a9",
   "metadata": {},
   "outputs": [],
   "source": [
    "x=None"
   ]
  },
  {
   "cell_type": "code",
   "execution_count": null,
   "id": "6047b0c0-5d42-4d8e-854e-b7cd9607d74c",
   "metadata": {},
   "outputs": [],
   "source": [
    "#Python Operators\n",
    "Arithmetic operators\n",
    "Assignment operators\n",
    "Comparison operators\n",
    "Logical operators\n",
    "Identity operators\n",
    "Membership operators\n",
    "Bitwise operators"
   ]
  },
  {
   "cell_type": "code",
   "execution_count": 16,
   "id": "2fdca8ed-57f9-460f-89f3-c4607d4d53b6",
   "metadata": {},
   "outputs": [
    {
     "name": "stdout",
     "output_type": "stream",
     "text": [
      "9\n",
      "4\n",
      "1024\n",
      "0\n"
     ]
    }
   ],
   "source": [
    "#Arithmetic Ops:\n",
    "#+, -, *, /, %, **, //\n",
    "x=4\n",
    "y=5\n",
    "print(x+y)\n",
    "\n",
    "print(x%y)\n",
    "print(x**y)\n",
    "print(x//y)"
   ]
  },
  {
   "cell_type": "code",
   "execution_count": 35,
   "id": "8a92813e-e22a-4f5c-b1ee-31ff557f33f7",
   "metadata": {},
   "outputs": [
    {
     "name": "stdout",
     "output_type": "stream",
     "text": [
      "2\n"
     ]
    }
   ],
   "source": [
    "#Assignment ops:\n",
    "# = , +=, -=,  (=arithmetic ops)\n",
    "x=5\n",
    "x -=3\n",
    "print(x)\n"
   ]
  },
  {
   "cell_type": "code",
   "execution_count": 36,
   "id": "02f9b6f4-9dc1-436d-90af-f99257e9f46c",
   "metadata": {},
   "outputs": [
    {
     "name": "stdout",
     "output_type": "stream",
     "text": [
      "1\n"
     ]
    }
   ],
   "source": [
    "#&=\n",
    "\n",
    "x=5\n",
    "x&=3\n",
    "print(x)"
   ]
  },
  {
   "cell_type": "code",
   "execution_count": 37,
   "id": "ef5e44e9-b6b6-44b0-9d5e-24cd1c665dd6",
   "metadata": {},
   "outputs": [
    {
     "name": "stdout",
     "output_type": "stream",
     "text": [
      "7\n"
     ]
    }
   ],
   "source": [
    "x=5\n",
    "x|=3\n",
    "print(x)"
   ]
  },
  {
   "cell_type": "code",
   "execution_count": 38,
   "id": "42499f96-211c-4f2f-8144-66e27df40da6",
   "metadata": {},
   "outputs": [
    {
     "name": "stdout",
     "output_type": "stream",
     "text": [
      "3\n"
     ]
    }
   ],
   "source": [
    "print(x:=3)"
   ]
  },
  {
   "cell_type": "code",
   "execution_count": 39,
   "id": "a3f7aee0-8d5d-49a4-bd63-f472d845fb0e",
   "metadata": {},
   "outputs": [
    {
     "name": "stdout",
     "output_type": "stream",
     "text": [
      "False\n"
     ]
    }
   ],
   "source": [
    "#Comparison operators\n",
    "#==, !=, >,<,<=, >=\n",
    "a=4\n",
    "b=6\n",
    "print(a>=b)"
   ]
  },
  {
   "cell_type": "code",
   "execution_count": 40,
   "id": "643e3384-6ce7-4c7f-b96b-e8863d2e751a",
   "metadata": {},
   "outputs": [
    {
     "name": "stdout",
     "output_type": "stream",
     "text": [
      "True\n"
     ]
    }
   ],
   "source": [
    "#Logical \n",
    "# and , or , not\n",
    "#and Returns True if both statements are true\n",
    "\n",
    "a=3\n",
    "print(a>2 and a<5)"
   ]
  },
  {
   "cell_type": "code",
   "execution_count": 41,
   "id": "b5225466-2f2f-4639-9f8f-90c49537c6f3",
   "metadata": {},
   "outputs": [],
   "source": [
    "#or : Returns True if one of the statements is true"
   ]
  },
  {
   "cell_type": "code",
   "execution_count": 42,
   "id": "ef38cd00-9a5a-4144-8522-0c8343b55595",
   "metadata": {},
   "outputs": [
    {
     "name": "stdout",
     "output_type": "stream",
     "text": [
      "False\n"
     ]
    }
   ],
   "source": [
    "# NOT\n",
    "a=3\n",
    "print(not(a>2 and a<5))"
   ]
  },
  {
   "cell_type": "code",
   "execution_count": 18,
   "id": "7c5517e6-f925-41ff-816e-e163a2458286",
   "metadata": {},
   "outputs": [
    {
     "name": "stdout",
     "output_type": "stream",
     "text": [
      "True\n"
     ]
    }
   ],
   "source": [
    "# Identity Ops:\n",
    "#is: Returns True if both variables are the same object, \n",
    "#is not\n",
    "\n",
    "x=[\"apple\",\"cherry\"]\n",
    "y=[\"apple\",\"cherry\"]\n",
    "z=x\n",
    "\n",
    "print(x is z)\n"
   ]
  },
  {
   "cell_type": "code",
   "execution_count": 45,
   "id": "0ad15547-aceb-4974-ab87-47c296e92661",
   "metadata": {},
   "outputs": [],
   "source": [
    "#is not: Returns True if both variables are not the same object"
   ]
  },
  {
   "cell_type": "code",
   "execution_count": 47,
   "id": "7b657960-fccc-4857-b4a7-e32e0a852955",
   "metadata": {},
   "outputs": [
    {
     "name": "stdout",
     "output_type": "stream",
     "text": [
      "True\n",
      "False\n"
     ]
    }
   ],
   "source": [
    "# Membership ops:\n",
    "#in: Returns True if a sequence with the specified value is present in the object\n",
    "#not in: Returns True if a sequence with the specified value is not present in the object\n",
    "\n",
    "x=[\"apple\",\"cherry\"]\n",
    "print(\"cherry\" in x)\n",
    "print(\"mango\" in x)"
   ]
  },
  {
   "cell_type": "code",
   "execution_count": 48,
   "id": "16c3870d-11d8-4784-97d2-5379a4e499a8",
   "metadata": {},
   "outputs": [
    {
     "name": "stdout",
     "output_type": "stream",
     "text": [
      "12\n"
     ]
    }
   ],
   "source": [
    "#Bitwise Ops:\n",
    "# &, |, ^, ~, <<, >>\n",
    "\n",
    "print(3<<2)"
   ]
  },
  {
   "cell_type": "code",
   "execution_count": 49,
   "id": "fd8f9496-bbdd-4944-8456-12f82508ee6d",
   "metadata": {},
   "outputs": [
    {
     "name": "stdout",
     "output_type": "stream",
     "text": [
      "mango\n"
     ]
    }
   ],
   "source": [
    "# Python List\n",
    "x=[\"apple\",\"cherry\", \"mango\"]\n",
    "# List are ordered, changeable and allows duplicates\n",
    "\n",
    "print(x[-1])"
   ]
  },
  {
   "cell_type": "code",
   "execution_count": 50,
   "id": "7344bef8-11e9-4cbe-a4e6-00b478193c83",
   "metadata": {},
   "outputs": [
    {
     "name": "stdout",
     "output_type": "stream",
     "text": [
      "['apple', 'banana', 'mango']\n"
     ]
    }
   ],
   "source": [
    "x=[\"apple\",\"cherry\", \"mango\"]\n",
    "x[1]=\"banana\"\n",
    "print(x)"
   ]
  },
  {
   "cell_type": "code",
   "execution_count": 51,
   "id": "fd8614dd-bd7b-407b-a1e0-22093f1f1234",
   "metadata": {},
   "outputs": [],
   "source": [
    "x=[\"apple\",\"cherry\", \"mango\"]\n",
    "#append\n",
    "#remove\n",
    "#pop()\n",
    "#del\n",
    "del x\n",
    "#clear"
   ]
  },
  {
   "cell_type": "code",
   "execution_count": 52,
   "id": "21362427-17a7-445b-bfcd-ad28cb80319e",
   "metadata": {},
   "outputs": [
    {
     "name": "stdout",
     "output_type": "stream",
     "text": [
      "apple\n",
      "cherry\n",
      "mango\n"
     ]
    }
   ],
   "source": [
    "#Loop list\n",
    "x=[\"apple\",\"cherry\", \"mango\"]\n",
    "for y in x:\n",
    "    print(y)"
   ]
  },
  {
   "cell_type": "code",
   "execution_count": 55,
   "id": "8125b41b-50f2-46e1-ae95-f6589511e55f",
   "metadata": {},
   "outputs": [
    {
     "name": "stdout",
     "output_type": "stream",
     "text": [
      "['apple', 'cherry', 'mango', 'watermelon']\n"
     ]
    }
   ],
   "source": [
    "#Sort the list alphabetically:\n",
    "x=[\"apple\",\"watermelon\",\"cherry\", \"mango\"]\n",
    "x.sort()\n",
    "print(x)\n"
   ]
  },
  {
   "cell_type": "code",
   "execution_count": 56,
   "id": "20dbbbf8-f0b7-4ddb-8128-036b2fd4eafa",
   "metadata": {},
   "outputs": [
    {
     "name": "stdout",
     "output_type": "stream",
     "text": [
      "['watermelon', 'mango', 'cherry', 'apple']\n"
     ]
    }
   ],
   "source": [
    "x=[\"apple\",\"watermelon\",\"cherry\", \"mango\"]\n",
    "x.sort(reverse=True) #reverse the list aplhabetically\n",
    "print(x)"
   ]
  },
  {
   "cell_type": "code",
   "execution_count": 57,
   "id": "a27b6339-3f86-44fa-9204-0c9bd2e88962",
   "metadata": {},
   "outputs": [
    {
     "name": "stdout",
     "output_type": "stream",
     "text": [
      "['apple', 'watermelon', 'cherry', 'mango']\n"
     ]
    }
   ],
   "source": [
    "x=[\"apple\",\"watermelon\",\"cherry\", \"mango\"]\n",
    "a= x.copy() \n",
    "print(a)"
   ]
  },
  {
   "cell_type": "code",
   "execution_count": 58,
   "id": "bb658903-90b4-46f6-88a1-f4f35f72d41d",
   "metadata": {},
   "outputs": [
    {
     "name": "stdout",
     "output_type": "stream",
     "text": [
      "['apple', 'watermelon', 'cherry', 'mango']\n"
     ]
    }
   ],
   "source": [
    "#list method\n",
    "x=[\"apple\",\"watermelon\",\"cherry\", \"mango\"]\n",
    "a=list(x)\n",
    "print(a)"
   ]
  },
  {
   "cell_type": "code",
   "execution_count": 59,
   "id": "7cf49d57-cd0d-480d-ac78-84af8581ca44",
   "metadata": {},
   "outputs": [
    {
     "name": "stdout",
     "output_type": "stream",
     "text": [
      "['apple', 'watermelon', 'cherry', 'mango', 1, 2, 3]\n"
     ]
    }
   ],
   "source": [
    "#join list\n",
    "x=[\"apple\",\"watermelon\",\"cherry\", \"mango\"]\n",
    "a= [1,2,3]\n",
    "y=x+a\n",
    "print(y)"
   ]
  },
  {
   "cell_type": "code",
   "execution_count": 60,
   "id": "db11e2e3-9d6e-430e-8e13-60dfd1352baa",
   "metadata": {},
   "outputs": [
    {
     "name": "stdout",
     "output_type": "stream",
     "text": [
      "['apple', 'watermelon', 'cherry', 'mango', 1, 2, 3]\n"
     ]
    }
   ],
   "source": [
    "#extend method\n",
    "x=[\"apple\",\"watermelon\",\"cherry\", \"mango\"]\n",
    "a= [1,2,3]\n",
    "x.extend(a)\n",
    "print(x)"
   ]
  },
  {
   "cell_type": "code",
   "execution_count": 65,
   "id": "06774098-2418-484c-bd7d-1d7aa1357775",
   "metadata": {},
   "outputs": [],
   "source": [
    "z= ['apple', 'watermelon', 'cherry', 'mango', 1, 2, 3]\n",
    "#exercise: Print the second item in the list\n",
    "#Remove cherry from the list and print the new list\n",
    "#Also add this list to the existing one: a=[123,234,345]\n",
    "#reverse the list\n"
   ]
  },
  {
   "cell_type": "code",
   "execution_count": 66,
   "id": "ab1a8042-7b48-4bfa-bcf3-109ce6dd43a0",
   "metadata": {},
   "outputs": [],
   "source": [
    "#python tuples:\n",
    "# Tuples are ordered, unchangeable, allows duplicate values"
   ]
  },
  {
   "cell_type": "code",
   "execution_count": 67,
   "id": "269952f2-7a58-4aec-8c8a-b86b7bcdab24",
   "metadata": {},
   "outputs": [
    {
     "name": "stdout",
     "output_type": "stream",
     "text": [
      "['apple', 'watermelon', 'cherry', 'mango']\n"
     ]
    }
   ],
   "source": [
    "x=(\"apple\",\"watermelon\",\"cherry\", \"mango\")\n",
    "y= list(x)\n",
    "print(y)"
   ]
  },
  {
   "cell_type": "code",
   "execution_count": 68,
   "id": "d683edfe-66e1-448d-b6fd-face76272523",
   "metadata": {},
   "outputs": [
    {
     "name": "stdout",
     "output_type": "stream",
     "text": [
      "('apple', 'watermelon', 'cherry', 'mango')\n"
     ]
    }
   ],
   "source": [
    "a=['apple', 'watermelon', 'cherry', 'mango']\n",
    "b= tuple(a)\n",
    "print(b)"
   ]
  },
  {
   "cell_type": "code",
   "execution_count": 71,
   "id": "c4a6e829-f424-428e-86e5-7a08c3c96ebb",
   "metadata": {},
   "outputs": [
    {
     "name": "stdout",
     "output_type": "stream",
     "text": [
      "apple\n",
      "mango\n"
     ]
    }
   ],
   "source": [
    "#Unpacking a tuple\n",
    "x=(\"apple\",\"watermelon\",\"cherry\", \"mango\")\n",
    "(green, yellow, orange, red) =x\n",
    "print(green)\n",
    "print(red)"
   ]
  },
  {
   "cell_type": "code",
   "execution_count": 72,
   "id": "396f2833-36ee-4cb6-829c-c0b0dfcd17ad",
   "metadata": {},
   "outputs": [
    {
     "name": "stdout",
     "output_type": "stream",
     "text": [
      "['cherry', 'mango', 'grapes']\n"
     ]
    }
   ],
   "source": [
    "x=(\"apple\",\"watermelon\",\"cherry\", \"mango\", \"grapes\")\n",
    "(green, yellow, *red) = x\n",
    "print(red)"
   ]
  },
  {
   "cell_type": "code",
   "execution_count": 73,
   "id": "3a6bfc7a-98d4-46e6-b01a-103fda08958e",
   "metadata": {
    "scrolled": true
   },
   "outputs": [
    {
     "name": "stdout",
     "output_type": "stream",
     "text": [
      "apple\n",
      "watermelon\n",
      "cherry\n",
      "mango\n",
      "grapes\n"
     ]
    }
   ],
   "source": [
    "#Loop the tuple\n",
    "x=(\"apple\",\"watermelon\",\"cherry\", \"mango\", \"grapes\")\n",
    "for y in x:\n",
    "    print(y)"
   ]
  },
  {
   "cell_type": "code",
   "execution_count": 74,
   "id": "a631eadf-823b-4b46-8283-bc2c7730a44d",
   "metadata": {},
   "outputs": [
    {
     "name": "stdout",
     "output_type": "stream",
     "text": [
      "('apple', 'watermelon', 'cherry', 'mango', 'grapes', 912, 23, 34, 45)\n"
     ]
    }
   ],
   "source": [
    "#join tuple\n",
    "x=(\"apple\",\"watermelon\",\"cherry\", \"mango\", \"grapes\")\n",
    "y=(912,23,34,45)\n",
    "a=x+y\n",
    "print(a)"
   ]
  },
  {
   "cell_type": "code",
   "execution_count": 75,
   "id": "443c87b3-2a54-40e3-b96e-39ff7284a366",
   "metadata": {},
   "outputs": [
    {
     "name": "stdout",
     "output_type": "stream",
     "text": [
      "('apple', 'watermelon', 'cherry', 'mango', 'grapes', 'apple', 'watermelon', 'cherry', 'mango', 'grapes')\n"
     ]
    }
   ],
   "source": [
    "#multiply the tuples\n",
    "x=(\"apple\",\"watermelon\",\"cherry\", \"mango\", \"grapes\")\n",
    "m= x*2\n",
    "print(m)"
   ]
  },
  {
   "cell_type": "code",
   "execution_count": 76,
   "id": "d04ed541-232d-4e25-b464-d842bcedda7a",
   "metadata": {},
   "outputs": [],
   "source": [
    "#Tuple methods:\n",
    "#count(): Returns the number of times a specified value occurs in a tuple\n",
    "#index(): Searches the tuple for a specified value and returns the position of where it was found"
   ]
  },
  {
   "cell_type": "code",
   "execution_count": null,
   "id": "ae532012-e8c2-441b-80f9-9a65e4ca9eeb",
   "metadata": {},
   "outputs": [],
   "source": [
    "#tuple ex:\n",
    "x=(\"apple\",\"watermelon\",\"cherry\", \"mango\", \"grapes\")\n",
    "y=(912,23,34,45)\n",
    "#Add both the tuples\n",
    "#Count the values in the tuple\n",
    "#Specify the last value from the tuple\n"
   ]
  },
  {
   "cell_type": "code",
   "execution_count": 78,
   "id": "7dc862c9-e226-4c0f-8f8f-a20f18a1fc15",
   "metadata": {},
   "outputs": [
    {
     "name": "stdout",
     "output_type": "stream",
     "text": [
      "Hey!Let's get started\n"
     ]
    }
   ],
   "source": [
    "#Python Functions: A function is a block of code which only runs when it is called.\n",
    "def my_func():\n",
    "    print(\"Hey!Let's get started\")\n",
    "\n",
    "my_func()"
   ]
  },
  {
   "cell_type": "code",
   "execution_count": 79,
   "id": "db3d0118-65ad-4622-80c3-a5873a4db2ad",
   "metadata": {},
   "outputs": [
    {
     "name": "stdout",
     "output_type": "stream",
     "text": [
      "BenHey!Let's get started\n"
     ]
    }
   ],
   "source": [
    "#Arguments:\n",
    "#Information can be passed into functions as arguments\n",
    "def my_func(fname):\n",
    "    print( fname + \"Hey!Let's get started\")\n",
    "\n",
    "my_func(\"Ben\")"
   ]
  },
  {
   "cell_type": "code",
   "execution_count": 81,
   "id": "abde61b7-de1b-4026-bdfa-d5b9470faa66",
   "metadata": {},
   "outputs": [
    {
     "name": "stdout",
     "output_type": "stream",
     "text": [
      "Ben Warner Hey!Let's get started\n"
     ]
    }
   ],
   "source": [
    "def my_func(fname,lname):\n",
    "    print( fname + lname + \"Hey!Let's get started\")\n",
    "\n",
    "my_func(\"Ben \", \"Warner \")"
   ]
  },
  {
   "cell_type": "code",
   "execution_count": 82,
   "id": "2ef7e6ae-7177-405d-8cc9-760cf8aa8ff8",
   "metadata": {},
   "outputs": [
    {
     "name": "stdout",
     "output_type": "stream",
     "text": [
      "1 2 Hey!Let's get started\n"
     ]
    }
   ],
   "source": [
    "def my_func(f,l):\n",
    "    print( f + l + \"Hey!Let's get started\")\n",
    "\n",
    "my_func(\"1 \", \"2 \")"
   ]
  },
  {
   "cell_type": "code",
   "execution_count": 84,
   "id": "f644b0f4-814e-4e32-a578-9e8ee32275a7",
   "metadata": {},
   "outputs": [
    {
     "name": "stdout",
     "output_type": "stream",
     "text": [
      "The smart ones are working hard\n"
     ]
    }
   ],
   "source": [
    "def func(*ppl):\n",
    "    print(\"The smart ones are working \" + ppl[2])\n",
    "\n",
    "func(\"smart\", \"lazy\", \"hard\")\n",
    "          "
   ]
  },
  {
   "cell_type": "code",
   "execution_count": null,
   "id": "f76240a3-9b31-42fc-b831-eae4b06cd4d6",
   "metadata": {},
   "outputs": [],
   "source": [
    "#Key=value syntax\n",
    "#kwargs"
   ]
  },
  {
   "cell_type": "code",
   "execution_count": 88,
   "id": "a64d97fb-c0c1-4870-a514-d0b252c17b42",
   "metadata": {},
   "outputs": [
    {
     "name": "stdout",
     "output_type": "stream",
     "text": [
      "The smart ones are working smartlazy\n"
     ]
    }
   ],
   "source": [
    "def func(ppl1, ppl2, ppl3):\n",
    "    print(\"The smart ones are working \" + ppl1 +ppl2)\n",
    "\n",
    "func(\"smart\", \"lazy\", \"hard\")\n",
    "          \n",
    "          "
   ]
  },
  {
   "cell_type": "code",
   "execution_count": 90,
   "id": "3b28bb73-58d6-4af1-9145-75ac30105978",
   "metadata": {},
   "outputs": [
    {
     "name": "stdout",
     "output_type": "stream",
     "text": [
      "24\n",
      "30\n"
     ]
    }
   ],
   "source": [
    "def func(x):\n",
    "    return 6*x\n",
    "print(func(4))\n",
    "print(func(5))\n",
    "#return a value\n"
   ]
  },
  {
   "cell_type": "code",
   "execution_count": 92,
   "id": "d8689820-7671-468d-8c02-62923c905898",
   "metadata": {},
   "outputs": [],
   "source": [
    "def func(x):\n",
    "    pass\n",
    "\n",
    "#pass statement\n",
    "    \n"
   ]
  },
  {
   "cell_type": "code",
   "execution_count": 93,
   "id": "32d3e8f1-d1d1-40c8-b2b7-1b8b2040abd0",
   "metadata": {},
   "outputs": [],
   "source": [
    "#Lambda: small anoymous function\n",
    "#Lambda function can take any number of arguments, but can only have one expression.\n",
    "#lambda arguments: expression (syntax)\n"
   ]
  },
  {
   "cell_type": "code",
   "execution_count": 94,
   "id": "105e1550-ce54-469a-8095-6897312143cd",
   "metadata": {},
   "outputs": [
    {
     "name": "stdout",
     "output_type": "stream",
     "text": [
      "5\n"
     ]
    }
   ],
   "source": [
    "x=lambda a: a-5\n",
    "print(x(10))"
   ]
  },
  {
   "cell_type": "code",
   "execution_count": 97,
   "id": "edfdc166-e60f-467c-9824-c483043b0f7c",
   "metadata": {},
   "outputs": [
    {
     "name": "stdout",
     "output_type": "stream",
     "text": [
      "1\n"
     ]
    }
   ],
   "source": [
    "x=lambda a,b,c: a-b-c\n",
    "print(x(10,4,5))"
   ]
  },
  {
   "cell_type": "code",
   "execution_count": 98,
   "id": "8a7a199d-cfa6-4a46-87b7-b963d7fae3bd",
   "metadata": {},
   "outputs": [
    {
     "name": "stdout",
     "output_type": "stream",
     "text": [
      "8\n"
     ]
    }
   ],
   "source": [
    "#Lambda with function\n",
    "def func(a):\n",
    "    return lambda x :x*a\n",
    "\n",
    "mydoubler=func(2)\n",
    "\n",
    "print(mydoubler(4))"
   ]
  },
  {
   "cell_type": "code",
   "execution_count": 99,
   "id": "c781b0ba-54e2-4e8d-85b5-5068f701f2d4",
   "metadata": {},
   "outputs": [],
   "source": [
    "# exercise:\n",
    "# Q1: passing multiple arguments inside a function\n",
    "#Q2: lambda with 3 arguments\n",
    "#Q3: lambda inside a function"
   ]
  },
  {
   "cell_type": "code",
   "execution_count": 100,
   "id": "7301ba64-f900-4cac-a31c-df73ac352c6f",
   "metadata": {},
   "outputs": [],
   "source": [
    "#Arrays: Arrays are used to store multiple values in one single variable"
   ]
  },
  {
   "cell_type": "code",
   "execution_count": 101,
   "id": "9a20d7ea-2397-4a0d-beb1-fa19fbdb31e0",
   "metadata": {},
   "outputs": [
    {
     "name": "stdout",
     "output_type": "stream",
     "text": [
      "['Ford', 'BMW', 'Tata']\n"
     ]
    }
   ],
   "source": [
    "cars=[\"Ford\", \"BMW\", \"Tata\"]\n",
    "print(cars)"
   ]
  },
  {
   "cell_type": "code",
   "execution_count": 102,
   "id": "28f8b133-009c-466c-8d9d-800b6f775f66",
   "metadata": {},
   "outputs": [
    {
     "name": "stdout",
     "output_type": "stream",
     "text": [
      "Ford\n"
     ]
    }
   ],
   "source": [
    "cars=[\"Ford\", \"BMW\", \"Tata\"]\n",
    "print(cars[0])"
   ]
  },
  {
   "cell_type": "code",
   "execution_count": 104,
   "id": "6a5a63b1-8744-4d08-98d0-57d2542f9dae",
   "metadata": {},
   "outputs": [
    {
     "name": "stdout",
     "output_type": "stream",
     "text": [
      "3\n"
     ]
    }
   ],
   "source": [
    "cars=[\"Ford\", \"BMW\", \"Tata\"]\n",
    "x=len(cars)\n",
    "print(x)"
   ]
  },
  {
   "cell_type": "code",
   "execution_count": 105,
   "id": "a00ab9b4-23d1-48a3-80e6-54495ca52db1",
   "metadata": {},
   "outputs": [
    {
     "name": "stdout",
     "output_type": "stream",
     "text": [
      "Ford\n",
      "BMW\n",
      "Tata\n"
     ]
    }
   ],
   "source": [
    "cars=[\"Ford\", \"BMW\", \"Tata\"]\n",
    "for x in cars:\n",
    "    print(x)"
   ]
  },
  {
   "cell_type": "code",
   "execution_count": 106,
   "id": "b4315503-e84c-4604-af55-a3c8fa2743bb",
   "metadata": {},
   "outputs": [
    {
     "name": "stdout",
     "output_type": "stream",
     "text": [
      "['Ford', 'BMW', 'Tata', 'Maruti']\n"
     ]
    }
   ],
   "source": [
    "cars=[\"Ford\", \"BMW\", \"Tata\"]\n",
    "cars.append(\"Maruti\")\n",
    "print(cars)"
   ]
  },
  {
   "cell_type": "code",
   "execution_count": 107,
   "id": "ac1dbf08-932c-437f-a702-1f7c8455688f",
   "metadata": {},
   "outputs": [],
   "source": [
    "#exercise\n",
    "#sort\n",
    "#reverse\n"
   ]
  },
  {
   "cell_type": "code",
   "execution_count": 111,
   "id": "b156e624-f7c8-44a9-81cc-21896b73ba1c",
   "metadata": {},
   "outputs": [
    {
     "name": "stdout",
     "output_type": "stream",
     "text": [
      "3\n"
     ]
    }
   ],
   "source": [
    "#python classes and objects: Create a class named MyClass, with a property named x\n",
    "class MyClass:\n",
    "    x=3\n",
    "p=MyClass()\n",
    "\n",
    "print(p.x)"
   ]
  },
  {
   "cell_type": "code",
   "execution_count": 115,
   "id": "bc9ece25-5c65-4b48-9e5a-f5ccb7736b60",
   "metadata": {},
   "outputs": [
    {
     "name": "stdout",
     "output_type": "stream",
     "text": [
      "Ben\n",
      "20\n"
     ]
    }
   ],
   "source": [
    "class Person:\n",
    "    def __init__(self,name,age):\n",
    "        self.name= name\n",
    "        self.age= age\n",
    "        \n",
    "p1=Person(\"Ben\", 20)\n",
    "\n",
    "print(p1.name)\n",
    "print(p1.age)"
   ]
  },
  {
   "cell_type": "code",
   "execution_count": 116,
   "id": "0656df98-91cd-49f0-ba28-0a1674abf5a7",
   "metadata": {},
   "outputs": [],
   "source": [
    "#insert another function by using print, greet Ben (exercise)\n"
   ]
  },
  {
   "cell_type": "code",
   "execution_count": 117,
   "id": "c97f05a4-d45c-4edc-84a0-8e1532c723d0",
   "metadata": {},
   "outputs": [
    {
     "name": "stdout",
     "output_type": "stream",
     "text": [
      "Ben\n",
      "20\n"
     ]
    }
   ],
   "source": [
    "#self parameter\n",
    "\"\"\"\"The self parameter is a reference to the current instance of the class, and is used to access variables that belongs to the class.\n",
    "\n",
    "It does not have to be named self , you can call it whatever you like, but it has to be the first parameter of any function in the class:\"\"\"\n",
    "\n",
    "Example\n",
    "class Person:\n",
    "    def __init__(app,name,age):\n",
    "        app.name= name\n",
    "        app.age= age\n",
    "        \n",
    "p1=Person(\"Ben\", 20)\n",
    "\n",
    "print(p1.name)\n",
    "print(p1.age)"
   ]
  },
  {
   "cell_type": "code",
   "execution_count": 118,
   "id": "04e62b18-1c43-4c56-954f-bcad9b65d283",
   "metadata": {},
   "outputs": [
    {
     "name": "stdout",
     "output_type": "stream",
     "text": [
      "Ben\n",
      "40\n"
     ]
    }
   ],
   "source": [
    "class Person:\n",
    "    def __init__(app,name,age):\n",
    "        app.name= name\n",
    "        app.age= age\n",
    "        \n",
    "p1=Person(\"Ben\", 20)\n",
    "\n",
    "p1.age=40 # modify object\n",
    "\n",
    "print(p1.name)\n",
    "print(p1.age)"
   ]
  },
  {
   "cell_type": "code",
   "execution_count": 121,
   "id": "b9734129-3a02-402f-b499-8d2c8f72bc20",
   "metadata": {},
   "outputs": [
    {
     "name": "stdout",
     "output_type": "stream",
     "text": [
      "Ben\n"
     ]
    },
    {
     "ename": "AttributeError",
     "evalue": "'Person' object has no attribute 'age'",
     "output_type": "error",
     "traceback": [
      "\u001b[1;31m---------------------------------------------------------------------------\u001b[0m",
      "\u001b[1;31mAttributeError\u001b[0m                            Traceback (most recent call last)",
      "Cell \u001b[1;32mIn[121], line 11\u001b[0m\n\u001b[0;32m      8\u001b[0m \u001b[38;5;28;01mdel\u001b[39;00m p1\u001b[38;5;241m.\u001b[39mage\n\u001b[0;32m     10\u001b[0m \u001b[38;5;28mprint\u001b[39m(p1\u001b[38;5;241m.\u001b[39mname)\n\u001b[1;32m---> 11\u001b[0m \u001b[38;5;28mprint\u001b[39m(\u001b[43mp1\u001b[49m\u001b[38;5;241;43m.\u001b[39;49m\u001b[43mage\u001b[49m)\n",
      "\u001b[1;31mAttributeError\u001b[0m: 'Person' object has no attribute 'age'"
     ]
    }
   ],
   "source": [
    "class Person:\n",
    "    def __init__(app,name,age):\n",
    "        app.name= name\n",
    "        app.age= age\n",
    "        \n",
    "p1=Person(\"Ben\", 20)\n",
    "\n",
    "del p1.age\n",
    "\n",
    "print(p1.name)\n",
    "print(p1.age)"
   ]
  },
  {
   "cell_type": "code",
   "execution_count": 122,
   "id": "0bf72f1e-2b47-4be9-b0d2-54f579f03ac9",
   "metadata": {},
   "outputs": [],
   "source": [
    "class Person:\n",
    "    pass\n",
    "\n",
    "#pass statement in class"
   ]
  },
  {
   "cell_type": "code",
   "execution_count": 123,
   "id": "e4f86ec9-5613-4f6e-819a-05e6ed203ac0",
   "metadata": {},
   "outputs": [
    {
     "name": "stdout",
     "output_type": "stream",
     "text": [
      "2024-07-25 12:06:28.266021\n"
     ]
    }
   ],
   "source": [
    "#Python Datetime\n",
    "\n",
    "import datetime\n",
    "x=datetime.datetime.now()\n",
    "print(x)"
   ]
  },
  {
   "cell_type": "code",
   "execution_count": 126,
   "id": "452cab93-0581-4ebe-be24-2a25956db4a5",
   "metadata": {},
   "outputs": [
    {
     "name": "stdout",
     "output_type": "stream",
     "text": [
      "2024\n",
      "Thursday\n"
     ]
    }
   ],
   "source": [
    "import datetime\n",
    "x=datetime.datetime.now()\n",
    "print(x.year)\n",
    "print(x.strftime(\"%A\"))"
   ]
  },
  {
   "cell_type": "code",
   "execution_count": 127,
   "id": "65f9a946-f035-43fd-a787-b2dbe4654da2",
   "metadata": {},
   "outputs": [
    {
     "name": "stdout",
     "output_type": "stream",
     "text": [
      "2020-01-18 00:00:00\n"
     ]
    }
   ],
   "source": [
    "#display another date\n",
    "import datetime\n",
    "x=datetime.datetime(2020,1, 18)\n",
    "print(x)"
   ]
  },
  {
   "cell_type": "code",
   "execution_count": 128,
   "id": "382096aa-9de7-4007-a9cd-2c91d528d139",
   "metadata": {},
   "outputs": [
    {
     "name": "stdout",
     "output_type": "stream",
     "text": [
      "January\n"
     ]
    }
   ],
   "source": [
    "#display another date\n",
    "import datetime\n",
    "x=datetime.datetime(2020,1, 18)\n",
    "print(x.strftime(\"%B\"))"
   ]
  },
  {
   "cell_type": "code",
   "execution_count": 129,
   "id": "c407681a-6543-4e83-aa7c-cb0a0e776f5e",
   "metadata": {},
   "outputs": [],
   "source": [
    "#exercise:\n",
    "#display the current date and time\n",
    "#display the year 2023 and any month in your date"
   ]
  },
  {
   "cell_type": "code",
   "execution_count": 130,
   "id": "a4218431-d4a9-448a-bca6-3fab20c127dc",
   "metadata": {},
   "outputs": [
    {
     "name": "stdout",
     "output_type": "stream",
     "text": [
      "9\n",
      "20\n"
     ]
    }
   ],
   "source": [
    "#python Math\n",
    "x= min(12,20,9)\n",
    "y=max(12,20,9)\n",
    "\n",
    "print(x)\n",
    "print(y)"
   ]
  },
  {
   "cell_type": "code",
   "execution_count": 132,
   "id": "77472894-fcd9-4020-8357-36d021693470",
   "metadata": {},
   "outputs": [
    {
     "name": "stdout",
     "output_type": "stream",
     "text": [
      "9\n"
     ]
    }
   ],
   "source": [
    "x= abs(-9)\n",
    "print(x)"
   ]
  },
  {
   "cell_type": "code",
   "execution_count": 133,
   "id": "ed53c879-ce1b-42f7-a306-ee79b9dfcc8d",
   "metadata": {},
   "outputs": [
    {
     "name": "stdout",
     "output_type": "stream",
     "text": [
      "45\n"
     ]
    }
   ],
   "source": [
    "x= abs(45) # absolute positive\n",
    "print(x)"
   ]
  },
  {
   "cell_type": "code",
   "execution_count": 134,
   "id": "9039365d-cd2d-43bf-aa23-0a067ef1bf9a",
   "metadata": {},
   "outputs": [
    {
     "name": "stdout",
     "output_type": "stream",
     "text": [
      "8\n"
     ]
    }
   ],
   "source": [
    "x= pow(2,3) #exponential\n",
    "print(x)"
   ]
  },
  {
   "cell_type": "code",
   "execution_count": 135,
   "id": "c388d44b-c5b6-40c6-9234-e1541a88ee92",
   "metadata": {},
   "outputs": [
    {
     "name": "stdout",
     "output_type": "stream",
     "text": [
      "8.0\n"
     ]
    }
   ],
   "source": [
    "#math Module\n",
    "import math\n",
    "q=math.sqrt(64)\n",
    "print(q)"
   ]
  },
  {
   "cell_type": "code",
   "execution_count": 136,
   "id": "97a036ba-fec4-4cc7-93be-d654fb573cfa",
   "metadata": {},
   "outputs": [
    {
     "name": "stdout",
     "output_type": "stream",
     "text": [
      "3.141592653589793\n"
     ]
    }
   ],
   "source": [
    "import math\n",
    "x=math.pi\n",
    "print(x)"
   ]
  },
  {
   "cell_type": "code",
   "execution_count": 137,
   "id": "7e8b439d-d6d7-4b62-bb24-2d60d8c677fd",
   "metadata": {},
   "outputs": [
    {
     "data": {
      "text/plain": [
       "'\\n1: Display the sqrt of 125\\n2. Try min and max\\n'"
      ]
     },
     "execution_count": 137,
     "metadata": {},
     "output_type": "execute_result"
    }
   ],
   "source": [
    "# ex:\n",
    "\"\"\"\n",
    "1: Display the sqrt of 125\n",
    "2. Try min and max\n",
    "\"\"\"\n"
   ]
  },
  {
   "cell_type": "code",
   "execution_count": 138,
   "id": "00027b80-d0a8-4789-a3b5-3d4874d7a3d5",
   "metadata": {},
   "outputs": [
    {
     "data": {
      "text/plain": [
       "'JSON is a syntax for storing and exchanging data.\\n\\nJSON is text, written with JavaScript object notation.'"
      ]
     },
     "execution_count": 138,
     "metadata": {},
     "output_type": "execute_result"
    }
   ],
   "source": [
    "#python JSON\n",
    "\"\"\"JSON is a syntax for storing and exchanging data.\n",
    "\n",
    "JSON is text, written with JavaScript object notation.\"\"\""
   ]
  },
  {
   "cell_type": "code",
   "execution_count": 142,
   "id": "30c5e992-2723-430f-ad39-3b23049ca3e6",
   "metadata": {},
   "outputs": [
    {
     "name": "stdout",
     "output_type": "stream",
     "text": [
      "{\"name\": \"Ben\", \"age\": 65, \"city\": \"London\"}\n"
     ]
    }
   ],
   "source": [
    "#convert python to json\n",
    "import json\n",
    "x={\n",
    "    \"name\":\"Ben\",\n",
    "    \"age\": 65,\n",
    "    \"city\": \"London\"\n",
    "}\n",
    "\n",
    "y=json.dumps(x)\n",
    "\n",
    "print(y)"
   ]
  },
  {
   "cell_type": "code",
   "execution_count": 141,
   "id": "9c134af2-7054-4285-bc15-dccb08ed32e4",
   "metadata": {},
   "outputs": [
    {
     "name": "stdout",
     "output_type": "stream",
     "text": [
      "34\n"
     ]
    }
   ],
   "source": [
    "import json\n",
    "x='{\"name\":\"Ben\", \"age\": 34, \"city\": \"NY\"}'\n",
    "y=json.loads(x)\n",
    "print(y[\"age\"])"
   ]
  },
  {
   "cell_type": "code",
   "execution_count": 143,
   "id": "80d30029-4e5e-44b2-a72b-d175fb5809a1",
   "metadata": {},
   "outputs": [
    {
     "name": "stdout",
     "output_type": "stream",
     "text": [
      "[\"abc\", \"vcd\"]\n"
     ]
    }
   ],
   "source": [
    "import json\n",
    "print(json.dumps((\"abc\", \"vcd\")))"
   ]
  },
  {
   "cell_type": "code",
   "execution_count": 144,
   "id": "7b7e09f6-e16d-473a-bc32-f15b7c182a0a",
   "metadata": {},
   "outputs": [
    {
     "data": {
      "text/plain": [
       "'dict\\nlist\\ntuple\\nstring\\nint\\nfloat\\nTrue\\nFalse\\nNone'"
      ]
     },
     "execution_count": 144,
     "metadata": {},
     "output_type": "execute_result"
    }
   ],
   "source": [
    "'''dict\n",
    "list\n",
    "tuple\n",
    "string\n",
    "int\n",
    "float\n",
    "True\n",
    "False\n",
    "None'''\n",
    "# py objs to json strings"
   ]
  },
  {
   "cell_type": "code",
   "execution_count": 146,
   "id": "59dc0451-761e-4398-9c02-1ce60f034cf9",
   "metadata": {},
   "outputs": [],
   "source": [
    "#convert python dict and list to json strings- exercise"
   ]
  },
  {
   "cell_type": "code",
   "execution_count": 150,
   "id": "73f1968a-114a-4a1f-a213-6a3281e4a955",
   "metadata": {},
   "outputs": [
    {
     "name": "stdout",
     "output_type": "stream",
     "text": [
      "{\n",
      "    \"age\"=65.\n",
      "    \"city\"=\"London\".\n",
      "    \"name\"=\"Ben\"\n",
      "}\n"
     ]
    }
   ],
   "source": [
    "import json\n",
    "x={\n",
    "    \"name\":\"Ben\",\n",
    "    \"age\": 65,\n",
    "    \"city\": \"London\"\n",
    "}\n",
    "\n",
    "\n",
    "print(json.dumps(x, indent=4, sort_keys=True,separators=(\".\", \"=\")))"
   ]
  },
  {
   "cell_type": "code",
   "execution_count": 151,
   "id": "2623e07f-168a-44e4-9ee8-14660f26eed9",
   "metadata": {},
   "outputs": [],
   "source": [
    "#convert python dict and list to json strings.add indent=6,  sort and separate"
   ]
  },
  {
   "cell_type": "code",
   "execution_count": 155,
   "id": "60c68a6e-a0d0-4483-b096-a6afc3ac7529",
   "metadata": {},
   "outputs": [
    {
     "name": "stdout",
     "output_type": "stream",
     "text": [
      "It is a match\n"
     ]
    }
   ],
   "source": [
    "#python RegEx: A RegEx, or Regular Expression, is a sequence of characters that forms a search pattern.\n",
    "#RegEx can be used to check if a string contains the specified search pattern.\n",
    "import re\n",
    "txt=\"It is raining today\"\n",
    "x=re.search(\"^It.*today$\",txt)\n",
    "\n",
    "if x:\n",
    "    print(\"It is a match\")\n",
    "else:\n",
    "    print(\"No match\")"
   ]
  },
  {
   "cell_type": "code",
   "execution_count": 2,
   "id": "f21bcc35-ed6d-40ae-8ffd-15bbbeee73f1",
   "metadata": {},
   "outputs": [
    {
     "name": "stdout",
     "output_type": "stream",
     "text": [
      "['it']\n"
     ]
    }
   ],
   "source": [
    "import re\n",
    "txt=\"It is raining today, is it?\"\n",
    "x=re.findall(\"it\",txt)\n",
    "print(x)"
   ]
  },
  {
   "cell_type": "code",
   "execution_count": 158,
   "id": "b4bbc8af-1c48-4300-9d5c-00bc9a8ad1fa",
   "metadata": {},
   "outputs": [],
   "source": [
    "#Try search and Findall - Exercise\n"
   ]
  },
  {
   "cell_type": "code",
   "execution_count": 165,
   "id": "4485eb78-d491-48e8-a6e3-1ac52a3b6cf9",
   "metadata": {},
   "outputs": [
    {
     "name": "stdout",
     "output_type": "stream",
     "text": [
      "['It', 'is', 'raining', 'today,', 'is', 'it?']\n"
     ]
    },
    {
     "name": "stderr",
     "output_type": "stream",
     "text": [
      "<>:3: SyntaxWarning: invalid escape sequence '\\s'\n",
      "<>:3: SyntaxWarning: invalid escape sequence '\\s'\n",
      "C:\\Users\\DenilaRajendran\\AppData\\Local\\Temp\\ipykernel_3792\\3019338207.py:3: SyntaxWarning: invalid escape sequence '\\s'\n",
      "  x=re.split(\"\\s\",txt)\n"
     ]
    }
   ],
   "source": [
    "import re\n",
    "txt=\"It is raining today, is it?\"\n",
    "x=re.split(\"\\s\",txt)\n",
    "print(x)"
   ]
  },
  {
   "cell_type": "code",
   "execution_count": 3,
   "id": "af277813-e8c3-47c0-abdd-25d569228db4",
   "metadata": {},
   "outputs": [
    {
     "name": "stdout",
     "output_type": "stream",
     "text": [
      "It&is&raining&today,&is&it?\n"
     ]
    },
    {
     "name": "stderr",
     "output_type": "stream",
     "text": [
      "<>:3: SyntaxWarning: invalid escape sequence '\\s'\n",
      "<>:3: SyntaxWarning: invalid escape sequence '\\s'\n",
      "C:\\Users\\DenilaRajendran\\AppData\\Local\\Temp\\ipykernel_248\\4279226124.py:3: SyntaxWarning: invalid escape sequence '\\s'\n",
      "  x=re.sub(\"\\s\",\"&\",txt)\n"
     ]
    }
   ],
   "source": [
    "import re\n",
    "txt=\"It is raining today, is it?\"\n",
    "x=re.sub(\"\\s\",\"&\",txt)\n",
    "print(x)"
   ]
  },
  {
   "cell_type": "code",
   "execution_count": 168,
   "id": "44fc9ae4-c153-426a-801f-8dc22a4fdbff",
   "metadata": {},
   "outputs": [],
   "source": [
    "# re: Split, sub, findall and search"
   ]
  },
  {
   "cell_type": "code",
   "execution_count": 1,
   "id": "8afd353d-6692-485f-be1b-5231448b3cca",
   "metadata": {},
   "outputs": [],
   "source": [
    "#Numpy: Numerical Python. It is  a Python Library"
   ]
  },
  {
   "cell_type": "code",
   "execution_count": 2,
   "id": "eb2ad1a3-5415-490c-b371-a93d4469f17f",
   "metadata": {},
   "outputs": [],
   "source": [
    "#The array object in NumPy is called ndarray"
   ]
  },
  {
   "cell_type": "code",
   "execution_count": 3,
   "id": "407ef470-2c62-41e6-835b-e932939506fe",
   "metadata": {},
   "outputs": [
    {
     "name": "stdout",
     "output_type": "stream",
     "text": [
      "[1 2 3 4 5]\n"
     ]
    }
   ],
   "source": [
    "import numpy\n",
    "\n",
    "arr = numpy.array([1, 2, 3, 4, 5])\n",
    "\n",
    "print(arr)\n"
   ]
  },
  {
   "cell_type": "code",
   "execution_count": 4,
   "id": "63e295ed-11ea-4a12-aa83-d0cc746a13a3",
   "metadata": {},
   "outputs": [],
   "source": [
    "import numpy as np #alias"
   ]
  },
  {
   "cell_type": "code",
   "execution_count": 5,
   "id": "fc509707-ecd8-49bd-b654-89f41ce32bc8",
   "metadata": {},
   "outputs": [
    {
     "name": "stdout",
     "output_type": "stream",
     "text": [
      "[1 2 3 4 5]\n"
     ]
    }
   ],
   "source": [
    "import numpy as np\n",
    "\n",
    "arr = np.array([1, 2, 3, 4, 5])\n",
    "\n",
    "print(arr)"
   ]
  },
  {
   "cell_type": "code",
   "execution_count": 6,
   "id": "bdda71ef-ab81-459d-9c35-d2820f0eab12",
   "metadata": {},
   "outputs": [
    {
     "name": "stdout",
     "output_type": "stream",
     "text": [
      "1.26.4\n"
     ]
    }
   ],
   "source": [
    "#checking numpy version\n",
    "import numpy as np\n",
    "print(np.__version__)"
   ]
  },
  {
   "cell_type": "code",
   "execution_count": 8,
   "id": "6e26c13f-3e8e-40da-8473-b485d2df4131",
   "metadata": {},
   "outputs": [
    {
     "name": "stdout",
     "output_type": "stream",
     "text": [
      "<class 'numpy.ndarray'>\n"
     ]
    }
   ],
   "source": [
    "import numpy as np\n",
    "arr=np.array([1,2,3,4,5])\n",
    "print(type(arr))"
   ]
  },
  {
   "cell_type": "code",
   "execution_count": null,
   "id": "fb89f000-8183-4acb-b65b-53ed66f125f7",
   "metadata": {},
   "outputs": [],
   "source": [
    "\"\"\"Dimensions in Arrays\n",
    "A dimension in arrays is one level of array depth (nested arrays).\n",
    "Nesterd arrays: are arrays that have arrays as their elements.\"\"\""
   ]
  },
  {
   "cell_type": "code",
   "execution_count": 9,
   "id": "0e1c46a4-d3cf-4e2e-9c90-4e5c0adb8f51",
   "metadata": {},
   "outputs": [
    {
     "name": "stdout",
     "output_type": "stream",
     "text": [
      "42\n"
     ]
    }
   ],
   "source": [
    "#0D\n",
    "import numpy as np\n",
    "a=np.array(42)\n",
    "print(a)"
   ]
  },
  {
   "cell_type": "code",
   "execution_count": 10,
   "id": "bd3ed1fe-eacc-45a7-9213-b625347290dd",
   "metadata": {},
   "outputs": [
    {
     "name": "stdout",
     "output_type": "stream",
     "text": [
      "[1 2 3 4 5]\n"
     ]
    }
   ],
   "source": [
    "#1D\n",
    "import numpy as np\n",
    "\n",
    "arr = np.array([1, 2, 3, 4, 5])\n",
    "\n",
    "print(arr)"
   ]
  },
  {
   "cell_type": "code",
   "execution_count": 12,
   "id": "26065f37-c1af-4dcd-b119-a39e9ddb30ea",
   "metadata": {},
   "outputs": [
    {
     "name": "stdout",
     "output_type": "stream",
     "text": [
      "[[1 2 3 4 5]\n",
      " [3 4 5 6 7]]\n"
     ]
    }
   ],
   "source": [
    "#2D\n",
    "import numpy as np\n",
    "\n",
    "arr = np.array([[1, 2, 3, 4, 5], [3, 4, 5, 6, 7]])\n",
    "\n",
    "print(arr)"
   ]
  },
  {
   "cell_type": "code",
   "execution_count": 13,
   "id": "99e1f7a3-f9d0-4809-9023-61cbd0dde5af",
   "metadata": {},
   "outputs": [],
   "source": [
    "#exercise : execute a 3D array"
   ]
  },
  {
   "cell_type": "code",
   "execution_count": 14,
   "id": "685bc953-31b7-4ebd-aab4-4bd04788faef",
   "metadata": {},
   "outputs": [
    {
     "name": "stdout",
     "output_type": "stream",
     "text": [
      "[[1 2 3 4 5]\n",
      " [3 4 5 6 7]]\n",
      "2\n"
     ]
    }
   ],
   "source": [
    "import numpy as np\n",
    "\n",
    "arr = np.array([[1, 2, 3, 4, 5], [3, 4, 5, 6, 7]])\n",
    "\n",
    "print(arr)\n",
    "print(arr.ndim)"
   ]
  },
  {
   "cell_type": "code",
   "execution_count": 22,
   "id": "3720eaa8-fa37-4ef0-9bd9-c0d94c004211",
   "metadata": {},
   "outputs": [
    {
     "name": "stdout",
     "output_type": "stream",
     "text": [
      "[[[[[1 2 3 4]]]]]\n",
      "No. of dim: 5\n"
     ]
    }
   ],
   "source": [
    "import numpy as np\n",
    "\n",
    "arr = np.array([1, 2, 3, 4],ndmin=5)\n",
    "\n",
    "print(arr)\n",
    "print('No. of dim:' , arr.ndim)\n"
   ]
  },
  {
   "cell_type": "code",
   "execution_count": 21,
   "id": "97cd55d1-54d7-4ea2-808b-1f1f4f3d74e7",
   "metadata": {},
   "outputs": [
    {
     "name": "stdout",
     "output_type": "stream",
     "text": [
      "[[[[[1 2 3 4]]]]]\n",
      "number of dimensions : 5\n"
     ]
    }
   ],
   "source": [
    "import numpy as np\n",
    "\n",
    "arr = np.array([1, 2, 3, 4], ndmin=5)\n",
    "\n",
    "print(arr)\n",
    "print('number of dimensions :', arr.ndim)\n"
   ]
  },
  {
   "cell_type": "code",
   "execution_count": 23,
   "id": "e1b0dea1-6238-4a88-ab09-96974e95d207",
   "metadata": {},
   "outputs": [],
   "source": [
    "#exercise: create an for 6 dimensional, print the array and the no. of dimensions"
   ]
  },
  {
   "cell_type": "code",
   "execution_count": 24,
   "id": "7d43d1f9-a777-49d8-bbab-43394de29072",
   "metadata": {},
   "outputs": [
    {
     "name": "stdout",
     "output_type": "stream",
     "text": [
      "2\n"
     ]
    }
   ],
   "source": [
    "#1D\n",
    "import numpy as np\n",
    "\n",
    "arr = np.array([1, 2, 3, 4, 5])\n",
    "\n",
    "print(arr[1])"
   ]
  },
  {
   "cell_type": "code",
   "execution_count": 25,
   "id": "90e4d454-1f07-44aa-a217-181ce295fcd7",
   "metadata": {},
   "outputs": [
    {
     "name": "stdout",
     "output_type": "stream",
     "text": [
      "6\n"
     ]
    }
   ],
   "source": [
    "#1D\n",
    "import numpy as np\n",
    "\n",
    "arr = np.array([1, 2, 3, 4, 5])\n",
    "\n",
    "print(arr[1]+ arr[3])"
   ]
  },
  {
   "cell_type": "code",
   "execution_count": 28,
   "id": "64b867c0-0771-4f71-9251-6683e7c4681b",
   "metadata": {},
   "outputs": [
    {
     "name": "stdout",
     "output_type": "stream",
     "text": [
      "2\n",
      "7\n"
     ]
    }
   ],
   "source": [
    "import numpy as np\n",
    "\n",
    "arr = np.array([[1, 2, 3, 4, 5], [3, 4, 5, 6, 7]])\n",
    "\n",
    "print(arr[0,1])\n",
    "print(arr[1,4])"
   ]
  },
  {
   "cell_type": "code",
   "execution_count": 29,
   "id": "a36b39b1-64ce-468c-9079-b331cda33aae",
   "metadata": {},
   "outputs": [],
   "source": [
    "# exercise: Fetch the 4th value from the 3rd array in a 4D array"
   ]
  },
  {
   "cell_type": "code",
   "execution_count": 30,
   "id": "10bc6ba5-590d-434f-8766-1c46c279cff5",
   "metadata": {},
   "outputs": [
    {
     "data": {
      "text/plain": [
       "\"Slicing arrays\\nSlicing in python means taking elements from one given index to another given index.\\n\\nWe pass slice instead of index like this: [start:end].\\n\\nWe can also define the step, like this: [start:end:step].\\n\\nIf we don't pass start its considered 0\\n\\nIf we don't pass end its considered length of array in that dimension\\n\\nIf we don't pass step its considered 1\""
      ]
     },
     "execution_count": 30,
     "metadata": {},
     "output_type": "execute_result"
    }
   ],
   "source": [
    "\"\"\"Slicing arrays\n",
    "Slicing in python means taking elements from one given index to another given index.\n",
    "\n",
    "We pass slice instead of index like this: [start:end].\n",
    "\n",
    "We can also define the step, like this: [start:end:step].\n",
    "\n",
    "If we don't pass start its considered 0\n",
    "\n",
    "If we don't pass end its considered length of array in that dimension\n",
    "\n",
    "If we don't pass step its considered 1\"\"\""
   ]
  },
  {
   "cell_type": "code",
   "execution_count": 31,
   "id": "6c70b868-9ef5-4f6d-9c68-af1ec4f2035a",
   "metadata": {},
   "outputs": [
    {
     "name": "stdout",
     "output_type": "stream",
     "text": [
      "[2 3 4]\n"
     ]
    }
   ],
   "source": [
    "#Slicing Arrays\n",
    "import numpy as np\n",
    "\n",
    "arr = np.array([1, 2, 3, 4, 5, 4,6, 7,8])\n",
    "\n",
    "print(arr[1:4])"
   ]
  },
  {
   "cell_type": "code",
   "execution_count": 33,
   "id": "24bdd564-8c95-4ba9-9789-0aa966bd55e0",
   "metadata": {},
   "outputs": [
    {
     "name": "stdout",
     "output_type": "stream",
     "text": [
      "[4 5 4 6]\n"
     ]
    }
   ],
   "source": [
    "import numpy as np\n",
    "\n",
    "arr = np.array([1, 2, 3, 4, 5, 4,6, 7,8])\n",
    "\n",
    "print(arr[3:7])"
   ]
  },
  {
   "cell_type": "code",
   "execution_count": 34,
   "id": "d6cf6b04-2b76-4537-8c9f-14e7d8c76dc3",
   "metadata": {},
   "outputs": [
    {
     "name": "stdout",
     "output_type": "stream",
     "text": [
      "[4 5 4 6 7 8]\n"
     ]
    }
   ],
   "source": [
    "import numpy as np\n",
    "\n",
    "arr = np.array([1, 2, 3, 4, 5, 4,6, 7,8])\n",
    "\n",
    "print(arr[3:])"
   ]
  },
  {
   "cell_type": "code",
   "execution_count": 35,
   "id": "e8d811ad-6aeb-4ce5-9167-d098d836b378",
   "metadata": {},
   "outputs": [
    {
     "name": "stdout",
     "output_type": "stream",
     "text": [
      "[1 2 3 4]\n"
     ]
    }
   ],
   "source": [
    "import numpy as np\n",
    "\n",
    "arr = np.array([1, 2, 3, 4, 5, 4,6, 7,8])\n",
    "\n",
    "print(arr[:4])"
   ]
  },
  {
   "cell_type": "code",
   "execution_count": 41,
   "id": "6fa0793c-d712-446b-ad51-e030fb0d5fff",
   "metadata": {},
   "outputs": [
    {
     "name": "stdout",
     "output_type": "stream",
     "text": [
      "[2 3 4 5 4 6 7 8]\n"
     ]
    }
   ],
   "source": [
    "import numpy as np\n",
    "\n",
    "arr = np.array([1, 2, 3, 4, 5, 4,6, 7,8])\n",
    "\n",
    "print(arr[1:])"
   ]
  },
  {
   "cell_type": "code",
   "execution_count": 43,
   "id": "824a00dc-c745-4f49-8419-47e284c83254",
   "metadata": {},
   "outputs": [
    {
     "name": "stdout",
     "output_type": "stream",
     "text": [
      "[[2 3 4]\n",
      " [4 5 6]]\n"
     ]
    }
   ],
   "source": [
    "import numpy as np\n",
    "\n",
    "arr = np.array([[1, 2, 3, 4, 5], [3, 4, 5, 6, 7]])\n",
    "\n",
    "print(arr[0: 2, 1:4])\n"
   ]
  },
  {
   "cell_type": "code",
   "execution_count": null,
   "id": "bb5b54c6-83dc-4333-bcf7-3e8c79f4efaa",
   "metadata": {},
   "outputs": [],
   "source": []
  }
 ],
 "metadata": {
  "kernelspec": {
   "display_name": "Python 3 (ipykernel)",
   "language": "python",
   "name": "python3"
  },
  "language_info": {
   "codemirror_mode": {
    "name": "ipython",
    "version": 3
   },
   "file_extension": ".py",
   "mimetype": "text/x-python",
   "name": "python",
   "nbconvert_exporter": "python",
   "pygments_lexer": "ipython3",
   "version": "3.12.4"
  }
 },
 "nbformat": 4,
 "nbformat_minor": 5
}
