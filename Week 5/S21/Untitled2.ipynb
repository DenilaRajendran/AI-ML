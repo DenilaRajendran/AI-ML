{
  "nbformat": 4,
  "nbformat_minor": 0,
  "metadata": {
    "colab": {
      "provenance": []
    },
    "kernelspec": {
      "name": "python3",
      "display_name": "Python 3"
    },
    "language_info": {
      "name": "python"
    }
  },
  "cells": [
    {
      "cell_type": "code",
      "execution_count": 1,
      "metadata": {
        "colab": {
          "base_uri": "https://localhost:8080/"
        },
        "id": "m-zZNfkm6AjL",
        "outputId": "a1b083f2-bfa4-4e72-98c3-694e56ddafee"
      },
      "outputs": [
        {
          "output_type": "stream",
          "name": "stdout",
          "text": [
            "Word Index:  {'geeksforgeeks': 1, 'love': 2, 'you': 3, 'i': 4, 'what': 5, 'do': 6, 'think': 7, 'about': 8}\n",
            "Sequences:  [[4, 2, 1], [3, 2, 1], [5, 6, 3, 7, 8, 1]]\n",
            "\n",
            "Sequences =  [[5, 3, 2], [4, 3, 2], [6, 7, 4, 8, 9, 2]]\n",
            "\n",
            "Test Sequence =  [[5, 1, 3, 2], [7, 4, 1, 2]]\n"
          ]
        }
      ],
      "source": [
        "# importing all the modules required\n",
        "import tensorflow as tf\n",
        "from tensorflow import keras\n",
        "from tensorflow.keras.preprocessing.text import Tokenizer\n",
        "from tensorflow.keras.preprocessing.sequence import pad_sequences\n",
        "\n",
        "# the initial corpus of sentences or the training set\n",
        "sentences = [\n",
        "    'I love geeksforgeeks',\n",
        "    'You love geeksforgeeks',\n",
        "    'What do you think about geeksforgeeks?'\n",
        "]\n",
        "\n",
        "tokenizer = Tokenizer(num_words = 100)\n",
        "\n",
        "# the tokenizer also removes punctuations\n",
        "tokenizer.fit_on_texts(sentences)\n",
        "word_index = tokenizer.word_index\n",
        "sequences = tokenizer.texts_to_sequences(sentences)\n",
        "print(\"Word Index: \", word_index)\n",
        "print(\"Sequences: \", sequences)\n",
        "\n",
        "# defining a placeholder token and naming it as placeholder\n",
        "tokenizer = Tokenizer(num_words=100,\n",
        "                      oov_token=\"placeholder\")\n",
        "tokenizer.fit_on_texts(sentences)\n",
        "word_index = tokenizer.word_index\n",
        "\n",
        "\n",
        "sequences = tokenizer.texts_to_sequences(sentences)\n",
        "print(\"\\nSequences = \", sequences)\n",
        "\n",
        "\n",
        "# the training data with words the network hasn't encountered\n",
        "test_data = [\n",
        "    'i really love geeksforgeeks',\n",
        "    'Do you like geeksforgeeks'\n",
        "]\n",
        "\n",
        "test_seq = tokenizer.texts_to_sequences(test_data)\n",
        "print(\"\\nTest Sequence = \", test_seq)"
      ]
    }
  ]
}